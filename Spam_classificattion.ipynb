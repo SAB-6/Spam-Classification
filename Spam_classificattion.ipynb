{
  "nbformat": 4,
  "nbformat_minor": 0,
  "metadata": {
    "colab": {
      "name": "Spam_classificattion.ipynb",
      "provenance": [],
      "authorship_tag": "ABX9TyNJI0JBRGwyXjFDjWPpsm2a",
      "include_colab_link": true
    },
    "kernelspec": {
      "name": "python3",
      "display_name": "Python 3"
    }
  },
  "cells": [
    {
      "cell_type": "markdown",
      "metadata": {
        "id": "view-in-github",
        "colab_type": "text"
      },
      "source": [
        "<a href=\"https://colab.research.google.com/github/SAB-6/Spam-Classification/blob/master/Spam_classificattion.ipynb\" target=\"_parent\"><img src=\"https://colab.research.google.com/assets/colab-badge.svg\" alt=\"Open In Colab\"/></a>"
      ]
    },
    {
      "cell_type": "code",
      "metadata": {
        "id": "SANH6T7dyvEt",
        "colab_type": "code",
        "colab": {}
      },
      "source": [
        "a"
      ],
      "execution_count": 0,
      "outputs": []
    },
    {
      "cell_type": "markdown",
      "metadata": {
        "id": "ktytfCW7y91g",
        "colab_type": "text"
      },
      "source": [
        "#  Table of Contents\n",
        "- [Step-1](#Project-Overview): Project objectives\n",
        "- [Step-2](#Load-Data-and-Explore-it): Understanding the dataset\n",
        "- [Step-3](#Data-Preprocessing) Data Preprocessing\n",
        "- [Step-4](#Train-model-and-make-prediction): Modeling\n",
        "- [Step-5](#Model-Evaluation): Model Evaluation\n",
        "- [Step-6](#Concluding-Remarks): Conclusion\n",
        "\n"
      ]
    },
    {
      "cell_type": "markdown",
      "metadata": {
        "id": "jlx3fIHdUHka",
        "colab_type": "text"
      },
      "source": [
        "## Dependencies"
      ]
    },
    {
      "cell_type": "code",
      "metadata": {
        "id": "ixcpjr4Z1VCQ",
        "colab_type": "code",
        "colab": {
          "base_uri": "https://localhost:8080/",
          "height": 54
        },
        "outputId": "e9505eb9-f1ec-485d-c320-ac4b652422cf"
      },
      "source": [
        "import pandas as pd\n",
        "import numpy as np\n",
        "import matplotlib.pyplot as plt\n",
        "import matplotlib as matplot\n",
        "import seaborn as sns\n",
        "from sklearn.feature_extraction.text import CountVectorizer, TfidfTransformer\n",
        "from sklearn.linear_model import LogisticRegression\n",
        "from sklearn.model_selection import cross_val_score\n",
        "from sklearn.ensemble import RandomForestClassifier\n",
        "from sklearn.ensemble import GradientBoostingClassifier\n",
        "from sklearn.model_selection import GridSearchCV\n",
        "from sklearn.preprocessing import StandardScaler\n",
        "from sklearn.pipeline import Pipeline, make_pipeline\n",
        "from sklearn.model_selection import train_test_split\n",
        "from sklearn.metrics import accuracy_score, classification_report, precision_score, recall_score, f1_score, confusion_matrix, precision_recall_curve, roc_curve, roc_auc_score\n",
        "%matplotlib inline\n",
        "from nltk.stem.wordnet import WordNetLemmatizer\n",
        "from nltk.tokenize import word_tokenize\n",
        "import nltk\n",
        "nltk.download('stopwords')\n",
        "from nltk.corpus import stopwords\n",
        "from string import punctuation\n",
        "from sklearn.compose import ColumnTransformer, make_column_transformer"
      ],
      "execution_count": 16,
      "outputs": [
        {
          "output_type": "stream",
          "text": [
            "[nltk_data] Downloading package stopwords to /root/nltk_data...\n",
            "[nltk_data]   Package stopwords is already up-to-date!\n"
          ],
          "name": "stdout"
        }
      ]
    },
    {
      "cell_type": "code",
      "metadata": {
        "id": "yrJbzQ9X1c61",
        "colab_type": "code",
        "colab": {
          "base_uri": "https://localhost:8080/",
          "height": 601
        },
        "outputId": "775d85fb-e5b3-4109-8312-2819720efe88"
      },
      "source": [
        "pip install tpot"
      ],
      "execution_count": 2,
      "outputs": [
        {
          "output_type": "stream",
          "text": [
            "Collecting tpot\n",
            "\u001b[?25l  Downloading https://files.pythonhosted.org/packages/a3/0c/5f284a90e19f64aadb3b5c64b4abdd57471cb77dff7097c394be9f5b8d11/TPOT-0.11.4-py3-none-any.whl (82kB)\n",
            "\r\u001b[K     |████                            | 10kB 17.5MB/s eta 0:00:01\r\u001b[K     |████████                        | 20kB 1.6MB/s eta 0:00:01\r\u001b[K     |████████████                    | 30kB 2.1MB/s eta 0:00:01\r\u001b[K     |████████████████                | 40kB 1.6MB/s eta 0:00:01\r\u001b[K     |████████████████████            | 51kB 1.9MB/s eta 0:00:01\r\u001b[K     |████████████████████████        | 61kB 2.2MB/s eta 0:00:01\r\u001b[K     |████████████████████████████    | 71kB 2.4MB/s eta 0:00:01\r\u001b[K     |████████████████████████████████| 81kB 2.6MB/s eta 0:00:01\r\u001b[K     |████████████████████████████████| 92kB 2.4MB/s \n",
            "\u001b[?25hCollecting stopit>=1.1.1\n",
            "  Downloading https://files.pythonhosted.org/packages/35/58/e8bb0b0fb05baf07bbac1450c447d753da65f9701f551dca79823ce15d50/stopit-1.1.2.tar.gz\n",
            "Collecting deap>=1.2\n",
            "\u001b[?25l  Downloading https://files.pythonhosted.org/packages/0a/eb/2bd0a32e3ce757fb26264765abbaedd6d4d3640d90219a513aeabd08ee2b/deap-1.3.1-cp36-cp36m-manylinux2010_x86_64.whl (157kB)\n",
            "\u001b[K     |████████████████████████████████| 163kB 8.8MB/s \n",
            "\u001b[?25hRequirement already satisfied: scipy>=1.3.1 in /usr/local/lib/python3.6/dist-packages (from tpot) (1.4.1)\n",
            "Collecting update-checker>=0.16\n",
            "  Downloading https://files.pythonhosted.org/packages/d6/c3/aaf8a162df8e8f9d321237c7c0e63aff95b42d19f1758f96606e3cabb245/update_checker-0.17-py2.py3-none-any.whl\n",
            "Requirement already satisfied: scikit-learn>=0.22.0 in /usr/local/lib/python3.6/dist-packages (from tpot) (0.22.2.post1)\n",
            "Requirement already satisfied: numpy>=1.16.3 in /usr/local/lib/python3.6/dist-packages (from tpot) (1.18.4)\n",
            "Requirement already satisfied: tqdm>=4.36.1 in /usr/local/lib/python3.6/dist-packages (from tpot) (4.41.1)\n",
            "Requirement already satisfied: joblib>=0.13.2 in /usr/local/lib/python3.6/dist-packages (from tpot) (0.15.1)\n",
            "Requirement already satisfied: pandas>=0.24.2 in /usr/local/lib/python3.6/dist-packages (from tpot) (1.0.3)\n",
            "Requirement already satisfied: requests>=2.3.0 in /usr/local/lib/python3.6/dist-packages (from update-checker>=0.16->tpot) (2.23.0)\n",
            "Requirement already satisfied: python-dateutil>=2.6.1 in /usr/local/lib/python3.6/dist-packages (from pandas>=0.24.2->tpot) (2.8.1)\n",
            "Requirement already satisfied: pytz>=2017.2 in /usr/local/lib/python3.6/dist-packages (from pandas>=0.24.2->tpot) (2018.9)\n",
            "Requirement already satisfied: certifi>=2017.4.17 in /usr/local/lib/python3.6/dist-packages (from requests>=2.3.0->update-checker>=0.16->tpot) (2020.4.5.1)\n",
            "Requirement already satisfied: idna<3,>=2.5 in /usr/local/lib/python3.6/dist-packages (from requests>=2.3.0->update-checker>=0.16->tpot) (2.9)\n",
            "Requirement already satisfied: urllib3!=1.25.0,!=1.25.1,<1.26,>=1.21.1 in /usr/local/lib/python3.6/dist-packages (from requests>=2.3.0->update-checker>=0.16->tpot) (1.24.3)\n",
            "Requirement already satisfied: chardet<4,>=3.0.2 in /usr/local/lib/python3.6/dist-packages (from requests>=2.3.0->update-checker>=0.16->tpot) (3.0.4)\n",
            "Requirement already satisfied: six>=1.5 in /usr/local/lib/python3.6/dist-packages (from python-dateutil>=2.6.1->pandas>=0.24.2->tpot) (1.12.0)\n",
            "Building wheels for collected packages: stopit\n",
            "  Building wheel for stopit (setup.py) ... \u001b[?25l\u001b[?25hdone\n",
            "  Created wheel for stopit: filename=stopit-1.1.2-cp36-none-any.whl size=11956 sha256=fff78134e9d9f63717a8b2303fd1ba9e64ad898dc59dc3515e518f46275408e1\n",
            "  Stored in directory: /root/.cache/pip/wheels/3c/85/2b/2580190404636bfc63e8de3dff629c03bb795021e1983a6cc7\n",
            "Successfully built stopit\n",
            "Installing collected packages: stopit, deap, update-checker, tpot\n",
            "Successfully installed deap-1.3.1 stopit-1.1.2 tpot-0.11.4 update-checker-0.17\n"
          ],
          "name": "stdout"
        }
      ]
    },
    {
      "cell_type": "markdown",
      "metadata": {
        "id": "or-zuQZT5US-",
        "colab_type": "text"
      },
      "source": [
        "## Project Overview\n"
      ]
    },
    {
      "cell_type": "markdown",
      "metadata": {
        "id": "cnMkR0J2REKk",
        "colab_type": "text"
      },
      "source": [
        "## Load Data and Explore it"
      ]
    },
    {
      "cell_type": "code",
      "metadata": {
        "id": "KhnrIQMMUPgC",
        "colab_type": "code",
        "colab": {
          "base_uri": "https://localhost:8080/",
          "height": 217
        },
        "outputId": "b6cb0adf-13c4-4f50-e5c6-c9b8316d392f"
      },
      "source": [
        "!wget https://archive.ics.uci.edu/ml/machine-learning-databases/00228/smsspamcollection.zip"
      ],
      "execution_count": 3,
      "outputs": [
        {
          "output_type": "stream",
          "text": [
            "--2020-05-30 21:26:23--  https://archive.ics.uci.edu/ml/machine-learning-databases/00228/smsspamcollection.zip\n",
            "Resolving archive.ics.uci.edu (archive.ics.uci.edu)... 128.195.10.252\n",
            "Connecting to archive.ics.uci.edu (archive.ics.uci.edu)|128.195.10.252|:443... connected.\n",
            "HTTP request sent, awaiting response... 200 OK\n",
            "Length: 203415 (199K) [application/x-httpd-php]\n",
            "Saving to: ‘smsspamcollection.zip’\n",
            "\n",
            "smsspamcollection.z 100%[===================>] 198.65K   777KB/s    in 0.3s    \n",
            "\n",
            "2020-05-30 21:26:23 (777 KB/s) - ‘smsspamcollection.zip’ saved [203415/203415]\n",
            "\n"
          ],
          "name": "stdout"
        }
      ]
    },
    {
      "cell_type": "code",
      "metadata": {
        "id": "ZPB70plpWfXl",
        "colab_type": "code",
        "colab": {
          "base_uri": "https://localhost:8080/",
          "height": 35
        },
        "outputId": "e25f2c4b-4cb1-4cef-a3e2-8ec62254f514"
      },
      "source": [
        "ls"
      ],
      "execution_count": 6,
      "outputs": [
        {
          "output_type": "stream",
          "text": [
            "\u001b[0m\u001b[01;34msample_data\u001b[0m/\n"
          ],
          "name": "stdout"
        }
      ]
    },
    {
      "cell_type": "code",
      "metadata": {
        "id": "hidVlFfWWubd",
        "colab_type": "code",
        "colab": {
          "base_uri": "https://localhost:8080/",
          "height": 72
        },
        "outputId": "19bcb748-3c86-4a33-d6c9-01f17038527d"
      },
      "source": [
        "!unzip smsspamcollection.zip"
      ],
      "execution_count": 4,
      "outputs": [
        {
          "output_type": "stream",
          "text": [
            "Archive:  smsspamcollection.zip\n",
            "  inflating: SMSSpamCollection       \n",
            "  inflating: readme                  \n"
          ],
          "name": "stdout"
        }
      ]
    },
    {
      "cell_type": "code",
      "metadata": {
        "id": "VLaOTzpIXaU4",
        "colab_type": "code",
        "colab": {}
      },
      "source": [
        "df = pd.read_table('SMSSpamCollection', sep ='\\t', names = ['label', 'sms_message'])"
      ],
      "execution_count": 0,
      "outputs": []
    },
    {
      "cell_type": "code",
      "metadata": {
        "id": "NHZfsl1VXjR2",
        "colab_type": "code",
        "colab": {
          "base_uri": "https://localhost:8080/",
          "height": 348
        },
        "outputId": "4e72bd0a-5fb0-49e6-e3da-83d3c544022a"
      },
      "source": [
        "#check the first 10 samples \n",
        "df.head(10)"
      ],
      "execution_count": 6,
      "outputs": [
        {
          "output_type": "execute_result",
          "data": {
            "text/html": [
              "<div>\n",
              "<style scoped>\n",
              "    .dataframe tbody tr th:only-of-type {\n",
              "        vertical-align: middle;\n",
              "    }\n",
              "\n",
              "    .dataframe tbody tr th {\n",
              "        vertical-align: top;\n",
              "    }\n",
              "\n",
              "    .dataframe thead th {\n",
              "        text-align: right;\n",
              "    }\n",
              "</style>\n",
              "<table border=\"1\" class=\"dataframe\">\n",
              "  <thead>\n",
              "    <tr style=\"text-align: right;\">\n",
              "      <th></th>\n",
              "      <th>label</th>\n",
              "      <th>sms_message</th>\n",
              "    </tr>\n",
              "  </thead>\n",
              "  <tbody>\n",
              "    <tr>\n",
              "      <th>0</th>\n",
              "      <td>ham</td>\n",
              "      <td>Go until jurong point, crazy.. Available only ...</td>\n",
              "    </tr>\n",
              "    <tr>\n",
              "      <th>1</th>\n",
              "      <td>ham</td>\n",
              "      <td>Ok lar... Joking wif u oni...</td>\n",
              "    </tr>\n",
              "    <tr>\n",
              "      <th>2</th>\n",
              "      <td>spam</td>\n",
              "      <td>Free entry in 2 a wkly comp to win FA Cup fina...</td>\n",
              "    </tr>\n",
              "    <tr>\n",
              "      <th>3</th>\n",
              "      <td>ham</td>\n",
              "      <td>U dun say so early hor... U c already then say...</td>\n",
              "    </tr>\n",
              "    <tr>\n",
              "      <th>4</th>\n",
              "      <td>ham</td>\n",
              "      <td>Nah I don't think he goes to usf, he lives aro...</td>\n",
              "    </tr>\n",
              "    <tr>\n",
              "      <th>5</th>\n",
              "      <td>spam</td>\n",
              "      <td>FreeMsg Hey there darling it's been 3 week's n...</td>\n",
              "    </tr>\n",
              "    <tr>\n",
              "      <th>6</th>\n",
              "      <td>ham</td>\n",
              "      <td>Even my brother is not like to speak with me. ...</td>\n",
              "    </tr>\n",
              "    <tr>\n",
              "      <th>7</th>\n",
              "      <td>ham</td>\n",
              "      <td>As per your request 'Melle Melle (Oru Minnamin...</td>\n",
              "    </tr>\n",
              "    <tr>\n",
              "      <th>8</th>\n",
              "      <td>spam</td>\n",
              "      <td>WINNER!! As a valued network customer you have...</td>\n",
              "    </tr>\n",
              "    <tr>\n",
              "      <th>9</th>\n",
              "      <td>spam</td>\n",
              "      <td>Had your mobile 11 months or more? U R entitle...</td>\n",
              "    </tr>\n",
              "  </tbody>\n",
              "</table>\n",
              "</div>"
            ],
            "text/plain": [
              "  label                                        sms_message\n",
              "0   ham  Go until jurong point, crazy.. Available only ...\n",
              "1   ham                      Ok lar... Joking wif u oni...\n",
              "2  spam  Free entry in 2 a wkly comp to win FA Cup fina...\n",
              "3   ham  U dun say so early hor... U c already then say...\n",
              "4   ham  Nah I don't think he goes to usf, he lives aro...\n",
              "5  spam  FreeMsg Hey there darling it's been 3 week's n...\n",
              "6   ham  Even my brother is not like to speak with me. ...\n",
              "7   ham  As per your request 'Melle Melle (Oru Minnamin...\n",
              "8  spam  WINNER!! As a valued network customer you have...\n",
              "9  spam  Had your mobile 11 months or more? U R entitle..."
            ]
          },
          "metadata": {
            "tags": []
          },
          "execution_count": 6
        }
      ]
    },
    {
      "cell_type": "code",
      "metadata": {
        "id": "CAoVxwEkXn41",
        "colab_type": "code",
        "colab": {
          "base_uri": "https://localhost:8080/",
          "height": 348
        },
        "outputId": "22592211-5133-4d1f-8276-4b1f062854d5"
      },
      "source": [
        "#check the last 10 samples\n",
        "df.tail(10)"
      ],
      "execution_count": 17,
      "outputs": [
        {
          "output_type": "execute_result",
          "data": {
            "text/html": [
              "<div>\n",
              "<style scoped>\n",
              "    .dataframe tbody tr th:only-of-type {\n",
              "        vertical-align: middle;\n",
              "    }\n",
              "\n",
              "    .dataframe tbody tr th {\n",
              "        vertical-align: top;\n",
              "    }\n",
              "\n",
              "    .dataframe thead th {\n",
              "        text-align: right;\n",
              "    }\n",
              "</style>\n",
              "<table border=\"1\" class=\"dataframe\">\n",
              "  <thead>\n",
              "    <tr style=\"text-align: right;\">\n",
              "      <th></th>\n",
              "      <th>label</th>\n",
              "      <th>sms_message</th>\n",
              "    </tr>\n",
              "  </thead>\n",
              "  <tbody>\n",
              "    <tr>\n",
              "      <th>5562</th>\n",
              "      <td>ham</td>\n",
              "      <td>Ok lor... Sony ericsson salesman... I ask shuh...</td>\n",
              "    </tr>\n",
              "    <tr>\n",
              "      <th>5563</th>\n",
              "      <td>ham</td>\n",
              "      <td>Ard 6 like dat lor.</td>\n",
              "    </tr>\n",
              "    <tr>\n",
              "      <th>5564</th>\n",
              "      <td>ham</td>\n",
              "      <td>Why don't you wait 'til at least wednesday to ...</td>\n",
              "    </tr>\n",
              "    <tr>\n",
              "      <th>5565</th>\n",
              "      <td>ham</td>\n",
              "      <td>Huh y lei...</td>\n",
              "    </tr>\n",
              "    <tr>\n",
              "      <th>5566</th>\n",
              "      <td>spam</td>\n",
              "      <td>REMINDER FROM O2: To get 2.50 pounds free call...</td>\n",
              "    </tr>\n",
              "    <tr>\n",
              "      <th>5567</th>\n",
              "      <td>spam</td>\n",
              "      <td>This is the 2nd time we have tried 2 contact u...</td>\n",
              "    </tr>\n",
              "    <tr>\n",
              "      <th>5568</th>\n",
              "      <td>ham</td>\n",
              "      <td>Will ü b going to esplanade fr home?</td>\n",
              "    </tr>\n",
              "    <tr>\n",
              "      <th>5569</th>\n",
              "      <td>ham</td>\n",
              "      <td>Pity, * was in mood for that. So...any other s...</td>\n",
              "    </tr>\n",
              "    <tr>\n",
              "      <th>5570</th>\n",
              "      <td>ham</td>\n",
              "      <td>The guy did some bitching but I acted like i'd...</td>\n",
              "    </tr>\n",
              "    <tr>\n",
              "      <th>5571</th>\n",
              "      <td>ham</td>\n",
              "      <td>Rofl. Its true to its name</td>\n",
              "    </tr>\n",
              "  </tbody>\n",
              "</table>\n",
              "</div>"
            ],
            "text/plain": [
              "     label                                        sms_message\n",
              "5562   ham  Ok lor... Sony ericsson salesman... I ask shuh...\n",
              "5563   ham                                Ard 6 like dat lor.\n",
              "5564   ham  Why don't you wait 'til at least wednesday to ...\n",
              "5565   ham                                       Huh y lei...\n",
              "5566  spam  REMINDER FROM O2: To get 2.50 pounds free call...\n",
              "5567  spam  This is the 2nd time we have tried 2 contact u...\n",
              "5568   ham               Will ü b going to esplanade fr home?\n",
              "5569   ham  Pity, * was in mood for that. So...any other s...\n",
              "5570   ham  The guy did some bitching but I acted like i'd...\n",
              "5571   ham                         Rofl. Its true to its name"
            ]
          },
          "metadata": {
            "tags": []
          },
          "execution_count": 17
        }
      ]
    },
    {
      "cell_type": "code",
      "metadata": {
        "id": "_luMkIJ8W-3_",
        "colab_type": "code",
        "colab": {
          "base_uri": "https://localhost:8080/",
          "height": 181
        },
        "outputId": "9d501552-558b-4e5c-b55e-f7cef26b0fad"
      },
      "source": [
        "df.info()"
      ],
      "execution_count": 18,
      "outputs": [
        {
          "output_type": "stream",
          "text": [
            "<class 'pandas.core.frame.DataFrame'>\n",
            "RangeIndex: 5572 entries, 0 to 5571\n",
            "Data columns (total 2 columns):\n",
            " #   Column       Non-Null Count  Dtype \n",
            "---  ------       --------------  ----- \n",
            " 0   label        5572 non-null   object\n",
            " 1   sms_message  5572 non-null   object\n",
            "dtypes: object(2)\n",
            "memory usage: 87.2+ KB\n"
          ],
          "name": "stdout"
        }
      ]
    },
    {
      "cell_type": "code",
      "metadata": {
        "id": "gv4E3tHUYJxi",
        "colab_type": "code",
        "colab": {}
      },
      "source": [
        "#df.isnull().sum().sort_values(ascending = False)"
      ],
      "execution_count": 0,
      "outputs": []
    },
    {
      "cell_type": "code",
      "metadata": {
        "id": "Nx5RRH-kY1yJ",
        "colab_type": "code",
        "colab": {}
      },
      "source": [
        "#for i in df['sms_message']:\n",
        "#  print(len(i))"
      ],
      "execution_count": 0,
      "outputs": []
    },
    {
      "cell_type": "markdown",
      "metadata": {
        "id": "5_fjY4DzREmu",
        "colab_type": "text"
      },
      "source": [
        "## Data Preprocessing"
      ]
    },
    {
      "cell_type": "code",
      "metadata": {
        "id": "IQDbWwqFawkg",
        "colab_type": "code",
        "colab": {}
      },
      "source": [
        "CountVectorizer?"
      ],
      "execution_count": 0,
      "outputs": []
    },
    {
      "cell_type": "code",
      "metadata": {
        "id": "WCohYMPob5Ff",
        "colab_type": "code",
        "colab": {
          "base_uri": "https://localhost:8080/",
          "height": 198
        },
        "outputId": "0cb188e3-01b7-4bac-f528-bd4df7a0fa0d"
      },
      "source": [
        "#Turn target column (label) to numeric values\n",
        "create_numeric = lambda x: 1 if x == 'spam' else 0\n",
        "df['label'] = df.label.map(create_numeric)\n",
        "df.head()"
      ],
      "execution_count": 7,
      "outputs": [
        {
          "output_type": "execute_result",
          "data": {
            "text/html": [
              "<div>\n",
              "<style scoped>\n",
              "    .dataframe tbody tr th:only-of-type {\n",
              "        vertical-align: middle;\n",
              "    }\n",
              "\n",
              "    .dataframe tbody tr th {\n",
              "        vertical-align: top;\n",
              "    }\n",
              "\n",
              "    .dataframe thead th {\n",
              "        text-align: right;\n",
              "    }\n",
              "</style>\n",
              "<table border=\"1\" class=\"dataframe\">\n",
              "  <thead>\n",
              "    <tr style=\"text-align: right;\">\n",
              "      <th></th>\n",
              "      <th>label</th>\n",
              "      <th>sms_message</th>\n",
              "    </tr>\n",
              "  </thead>\n",
              "  <tbody>\n",
              "    <tr>\n",
              "      <th>0</th>\n",
              "      <td>0</td>\n",
              "      <td>Go until jurong point, crazy.. Available only ...</td>\n",
              "    </tr>\n",
              "    <tr>\n",
              "      <th>1</th>\n",
              "      <td>0</td>\n",
              "      <td>Ok lar... Joking wif u oni...</td>\n",
              "    </tr>\n",
              "    <tr>\n",
              "      <th>2</th>\n",
              "      <td>1</td>\n",
              "      <td>Free entry in 2 a wkly comp to win FA Cup fina...</td>\n",
              "    </tr>\n",
              "    <tr>\n",
              "      <th>3</th>\n",
              "      <td>0</td>\n",
              "      <td>U dun say so early hor... U c already then say...</td>\n",
              "    </tr>\n",
              "    <tr>\n",
              "      <th>4</th>\n",
              "      <td>0</td>\n",
              "      <td>Nah I don't think he goes to usf, he lives aro...</td>\n",
              "    </tr>\n",
              "  </tbody>\n",
              "</table>\n",
              "</div>"
            ],
            "text/plain": [
              "   label                                        sms_message\n",
              "0      0  Go until jurong point, crazy.. Available only ...\n",
              "1      0                      Ok lar... Joking wif u oni...\n",
              "2      1  Free entry in 2 a wkly comp to win FA Cup fina...\n",
              "3      0  U dun say so early hor... U c already then say...\n",
              "4      0  Nah I don't think he goes to usf, he lives aro..."
            ]
          },
          "metadata": {
            "tags": []
          },
          "execution_count": 7
        }
      ]
    },
    {
      "cell_type": "code",
      "metadata": {
        "id": "-8CR8_jRfF8l",
        "colab_type": "code",
        "colab": {
          "base_uri": "https://localhost:8080/",
          "height": 407
        },
        "outputId": "f23ac471-4418-435e-9dca-29ab435c56b9"
      },
      "source": [
        "#(df.label.value_counts()/len(df)).hist()\n",
        "(df['label'].value_counts()/len(df)).plot(kind='bar', color = 'brown',figsize=(10, 6), stacked=False)\n",
        "plt.xlabel('Spam/Ham', fontsize=15)\n",
        "plt.ylabel('Percentage', fontsize=15)\n",
        "plt.title('Distribution of spam/ham messages', fontsize=15);"
      ],
      "execution_count": 8,
      "outputs": [
        {
          "output_type": "display_data",
          "data": {
            "image/png": "[encoded data removed]",
            "text/plain": [
              "<Figure size 720x432 with 1 Axes>"
            ]
          },
          "metadata": {
            "tags": [],
            "needs_background": "light"
          }
        }
      ]
    },
    {
      "cell_type": "code",
      "metadata": {
        "id": "OIaLty3iecW0",
        "colab_type": "code",
        "colab": {}
      },
      "source": [
        "# split data into training and test sets\n",
        "train_features, test_features, train_target, test_target = train_test_split(df['sms_message'],df['label'],\n",
        "                                                     random_state = 42)"
      ],
      "execution_count": 0,
      "outputs": []
    },
    {
      "cell_type": "code",
      "metadata": {
        "id": "FAQMiHEj0TdM",
        "colab_type": "code",
        "colab": {}
      },
      "source": [
        "stop_words = stopwords.words(\"english\")\n",
        "lemmatizer = WordNetLemmatizer()"
      ],
      "execution_count": 0,
      "outputs": []
    },
    {
      "cell_type": "code",
      "metadata": {
        "id": "w9bqLQk1zlCv",
        "colab_type": "code",
        "colab": {}
      },
      "source": [
        "def tokenize(text):\n",
        "    # normalize case and remove punctuation\n",
        "    text = re.sub(r\"[^a-zA-Z0-9]\", \" \", text.lower())\n",
        "    \n",
        "    # tokenize text\n",
        "    tokens = word_tokenize(text)\n",
        "    \n",
        "    # lemmatize andremove stop words\n",
        "    tokens = [lemmatizer.lemmatize(word) for word in tokens if word not in stop_words]\n",
        "\n",
        "    return tokens"
      ],
      "execution_count": 0,
      "outputs": []
    },
    {
      "cell_type": "code",
      "metadata": {
        "id": "WBHZOoOkZcBA",
        "colab_type": "code",
        "colab": {}
      },
      "source": [
        "# Instantiate countvectoriozer and tfidf\n",
        "counter = CountVectorizer(stop_words= 'english')\n",
        "tfidf = TfidfTransformer()\n",
        "pipeline = Pipeline([('counter', counter), ('tfidf', tfidf)])"
      ],
      "execution_count": 0,
      "outputs": []
    },
    {
      "cell_type": "markdown",
      "metadata": {
        "id": "WiEIznc72zWN",
        "colab_type": "text"
      },
      "source": [
        "## Train model and make prediction"
      ]
    },
    {
      "cell_type": "code",
      "metadata": {
        "id": "vE2aVVhBb3yX",
        "colab_type": "code",
        "colab": {}
      },
      "source": [
        "_train_features = pipeline.fit_transform(train_features)\n",
        "_test_features = pipeline.transform(test_features)"
      ],
      "execution_count": 0,
      "outputs": []
    },
    {
      "cell_type": "markdown",
      "metadata": {
        "id": "UfzoPmNW27No",
        "colab_type": "text"
      },
      "source": [
        "## Build a base line model using logistic regression and make prediction"
      ]
    },
    {
      "cell_type": "code",
      "metadata": {
        "id": "uintqXnK3CVI",
        "colab_type": "code",
        "colab": {}
      },
      "source": [
        "#Instantiate logistic regression\n",
        "model_lr = LogisticRegression()"
      ],
      "execution_count": 0,
      "outputs": []
    },
    {
      "cell_type": "code",
      "metadata": {
        "id": "89iuBjD53MwR",
        "colab_type": "code",
        "colab": {
          "base_uri": "https://localhost:8080/",
          "height": 108
        },
        "outputId": "fc14c96b-5e11-495e-b5ff-48f386f37c2b"
      },
      "source": [
        "model_lr.fit(_train_features, train_target)"
      ],
      "execution_count": 23,
      "outputs": [
        {
          "output_type": "execute_result",
          "data": {
            "text/plain": [
              "LogisticRegression(C=1.0, class_weight=None, dual=False, fit_intercept=True,\n",
              "                   intercept_scaling=1, l1_ratio=None, max_iter=100,\n",
              "                   multi_class='auto', n_jobs=None, penalty='l2',\n",
              "                   random_state=None, solver='lbfgs', tol=0.0001, verbose=0,\n",
              "                   warm_start=False)"
            ]
          },
          "metadata": {
            "tags": []
          },
          "execution_count": 23
        }
      ]
    },
    {
      "cell_type": "code",
      "metadata": {
        "id": "5HDeDpsf39Xb",
        "colab_type": "code",
        "colab": {}
      },
      "source": [
        "pred = model_lr.predict(_test_features)"
      ],
      "execution_count": 0,
      "outputs": []
    },
    {
      "cell_type": "markdown",
      "metadata": {
        "id": "MCdx9Go0ToFy",
        "colab_type": "text"
      },
      "source": [
        "## Model-Evaluation"
      ]
    },
    {
      "cell_type": "code",
      "metadata": {
        "id": "-TBoCfdG6JbV",
        "colab_type": "code",
        "colab": {}
      },
      "source": [
        "def evaluate_model(y_test, y_pred):\n",
        "    labels = np.unique(y_pred)\n",
        "    confusion_mat = confusion_matrix(y_test, y_pred, labels=labels)\n",
        "    accuracy = (y_pred == y_test).mean()\n",
        "    precision = precision_score(y_test, y_pred, labels=labels, average = 'weighted')\n",
        "    recall = recall_score(y_test, y_pred, labels=labels, average = 'weighted')\n",
        "    f1 = f1_score(y_test, y_pred, labels=labels, average = 'weighted')\n",
        "\n",
        "    print(\"Labels:\", labels)\n",
        "    print(\"Confusion Matrix:\\n\", confusion_mat)\n",
        "    print(\"Accuracy:\", accuracy)\n",
        "    print(\"Precision:\", precision)\n",
        "    print(\"Recall:\", recall)\n",
        "    print(\"F1_score:\", f1)"
      ],
      "execution_count": 0,
      "outputs": []
    },
    {
      "cell_type": "code",
      "metadata": {
        "id": "v4BxIyIX7agY",
        "colab_type": "code",
        "colab": {
          "base_uri": "https://localhost:8080/",
          "height": 163
        },
        "outputId": "d040ad05-a63f-4da4-8bb4-e5b611f1257d"
      },
      "source": [
        "evaluate_model(test_target, pred)"
      ],
      "execution_count": 26,
      "outputs": [
        {
          "output_type": "stream",
          "text": [
            "Labels: [0 1]\n",
            "Confusion Matrix:\n",
            " [[1207    0]\n",
            " [  45  141]]\n",
            "Accuracy: 0.9676956209619526\n",
            "Precision: 0.9688567208475055\n",
            "Recall: 0.9676956209619526\n",
            "F1_score: 0.9657684296265534\n"
          ],
          "name": "stdout"
        }
      ]
    },
    {
      "cell_type": "markdown",
      "metadata": {
        "id": "gMwM5_tAWZ7g",
        "colab_type": "text"
      },
      "source": [
        "## Improving the model"
      ]
    },
    {
      "cell_type": "code",
      "metadata": {
        "id": "-44yfe06WM5e",
        "colab_type": "code",
        "colab": {}
      },
      "source": [
        "#create a column that ounts the number of words per message\n",
        "msg_length = lambda x: len(x.split())\n",
        "df['msg_length'] = df['sms_message'].apply(msg_length)"
      ],
      "execution_count": 0,
      "outputs": []
    },
    {
      "cell_type": "code",
      "metadata": {
        "id": "0hnEXXk4uzuV",
        "colab_type": "code",
        "colab": {}
      },
      "source": [
        "# create a column to count the number of punctuation excluding comma and full stop\n",
        "from collections import Counter\n",
        "punct = [i for i in punctuation if i not in (',','.')]\n",
        "\n",
        "count_punct = lambda x: sum([1 for i in x if i in punct])"
      ],
      "execution_count": 0,
      "outputs": []
    },
    {
      "cell_type": "code",
      "metadata": {
        "id": "kLmJ3H1VmWTA",
        "colab_type": "code",
        "colab": {}
      },
      "source": [
        "df['punct']= df['sms_message'].map(count_punct)"
      ],
      "execution_count": 0,
      "outputs": []
    },
    {
      "cell_type": "code",
      "metadata": {
        "id": "d3MtELH0vNL6",
        "colab_type": "code",
        "colab": {
          "base_uri": "https://localhost:8080/",
          "height": 198
        },
        "outputId": "64bc21e5-cd19-49c3-bf9b-02530b4967d7"
      },
      "source": [
        "df.head()"
      ],
      "execution_count": 30,
      "outputs": [
        {
          "output_type": "execute_result",
          "data": {
            "text/html": [
              "<div>\n",
              "<style scoped>\n",
              "    .dataframe tbody tr th:only-of-type {\n",
              "        vertical-align: middle;\n",
              "    }\n",
              "\n",
              "    .dataframe tbody tr th {\n",
              "        vertical-align: top;\n",
              "    }\n",
              "\n",
              "    .dataframe thead th {\n",
              "        text-align: right;\n",
              "    }\n",
              "</style>\n",
              "<table border=\"1\" class=\"dataframe\">\n",
              "  <thead>\n",
              "    <tr style=\"text-align: right;\">\n",
              "      <th></th>\n",
              "      <th>label</th>\n",
              "      <th>sms_message</th>\n",
              "      <th>msg_length</th>\n",
              "      <th>punct</th>\n",
              "    </tr>\n",
              "  </thead>\n",
              "  <tbody>\n",
              "    <tr>\n",
              "      <th>0</th>\n",
              "      <td>0</td>\n",
              "      <td>Go until jurong point, crazy.. Available only ...</td>\n",
              "      <td>20</td>\n",
              "      <td>0</td>\n",
              "    </tr>\n",
              "    <tr>\n",
              "      <th>1</th>\n",
              "      <td>0</td>\n",
              "      <td>Ok lar... Joking wif u oni...</td>\n",
              "      <td>6</td>\n",
              "      <td>0</td>\n",
              "    </tr>\n",
              "    <tr>\n",
              "      <th>2</th>\n",
              "      <td>1</td>\n",
              "      <td>Free entry in 2 a wkly comp to win FA Cup fina...</td>\n",
              "      <td>28</td>\n",
              "      <td>5</td>\n",
              "    </tr>\n",
              "    <tr>\n",
              "      <th>3</th>\n",
              "      <td>0</td>\n",
              "      <td>U dun say so early hor... U c already then say...</td>\n",
              "      <td>11</td>\n",
              "      <td>0</td>\n",
              "    </tr>\n",
              "    <tr>\n",
              "      <th>4</th>\n",
              "      <td>0</td>\n",
              "      <td>Nah I don't think he goes to usf, he lives aro...</td>\n",
              "      <td>13</td>\n",
              "      <td>1</td>\n",
              "    </tr>\n",
              "  </tbody>\n",
              "</table>\n",
              "</div>"
            ],
            "text/plain": [
              "   label                                        sms_message  msg_length  punct\n",
              "0      0  Go until jurong point, crazy.. Available only ...          20      0\n",
              "1      0                      Ok lar... Joking wif u oni...           6      0\n",
              "2      1  Free entry in 2 a wkly comp to win FA Cup fina...          28      5\n",
              "3      0  U dun say so early hor... U c already then say...          11      0\n",
              "4      0  Nah I don't think he goes to usf, he lives aro...          13      1"
            ]
          },
          "metadata": {
            "tags": []
          },
          "execution_count": 30
        }
      ]
    },
    {
      "cell_type": "code",
      "metadata": {
        "id": "dM6b9qGwarce",
        "colab_type": "code",
        "colab": {}
      },
      "source": [
        "#counter = CountVectorizer(tokenizer = tokenize, stop_words= 'english', ngram_range=(1,2))\n",
        "#tfidf = TfidfTransformer()\n",
        "#pipeline = Pipeline([('counter', counter), ('tfidf', tfidf)])"
      ],
      "execution_count": 0,
      "outputs": []
    },
    {
      "cell_type": "code",
      "metadata": {
        "id": "bal0sXTeZhx7",
        "colab_type": "code",
        "colab": {}
      },
      "source": [
        "#df[df['label'] == 1]"
      ],
      "execution_count": 0,
      "outputs": []
    },
    {
      "cell_type": "code",
      "metadata": {
        "id": "L3XFA1lRzKZ9",
        "colab_type": "code",
        "colab": {}
      },
      "source": [
        "def tokenize(text):\n",
        "    # normalize case and remove punctuation\n",
        "    text = re.sub(r\"[^a-zA-Z0-9]\", \" \", text.lower())\n",
        "    \n",
        "    # tokenize text\n",
        "    tokens = word_tokenize(text)\n",
        "    \n",
        "    # lemmatize andremove stop words\n",
        "    tokens = [lemmatizer.lemmatize(word) for word in tokens if word not in stop_words]\n",
        "\n",
        "    return tokens"
      ],
      "execution_count": 0,
      "outputs": []
    },
    {
      "cell_type": "code",
      "metadata": {
        "id": "dNNDUueM75DS",
        "colab_type": "code",
        "colab": {}
      },
      "source": [
        "#numeric_features = ['msg_length','punct']\n",
        "#categorical_features = ['sms_message']\n",
        "\n",
        "#pipeline = make_pipeline(make_column_transformer(\n",
        "#    (categorical_features, make_pipeline(\n",
        "#       (CountVectorizer(tokenizer=tokenize)),\n",
        "#       (TfidfTransformer())\n",
        "#       )),\n",
        "#       (numeric_features, StandardScaler())),\n",
        "#       LogisticRegression())  "
      ],
      "execution_count": 0,
      "outputs": []
    },
    {
      "cell_type": "code",
      "metadata": {
        "id": "BqPv78pyM1mp",
        "colab_type": "code",
        "colab": {}
      },
      "source": [
        "numeric_features = ['msg_length','punct']\n",
        "categorical_features = ['sms_message']\n",
        "\n",
        "pipeline = Pipeline([\n",
        "                     ('transformer', make_column_transformer(\n",
        "                             (categorical_features, Pipeline([\n",
        "                            ('counter',CountVectorizer(tokenizer=tokenize)),\n",
        "                            ('tfidf',TfidfTransformer())\n",
        "                            ])),\n",
        "                        (numeric_features, StandardScaler())\n",
        "                        )),\n",
        "                      ('lr', LogisticRegression())\n",
        "                     ])"
      ],
      "execution_count": 0,
      "outputs": []
    },
    {
      "cell_type": "code",
      "metadata": {
        "id": "L34wgej5Iog2",
        "colab_type": "code",
        "colab": {
          "base_uri": "https://localhost:8080/",
          "height": 1000
        },
        "outputId": "bcf4def8-576f-4dad-d725-85180199bfcf"
      },
      "source": [
        "pipeline.get_params()"
      ],
      "execution_count": 39,
      "outputs": [
        {
          "output_type": "execute_result",
          "data": {
            "text/plain": [
              "{'lr': LogisticRegression(C=1.0, class_weight=None, dual=False, fit_intercept=True,\n",
              "                    intercept_scaling=1, l1_ratio=None, max_iter=100,\n",
              "                    multi_class='auto', n_jobs=None, penalty='l2',\n",
              "                    random_state=None, solver='lbfgs', tol=0.0001, verbose=0,\n",
              "                    warm_start=False),\n",
              " 'lr__C': 1.0,\n",
              " 'lr__class_weight': None,\n",
              " 'lr__dual': False,\n",
              " 'lr__fit_intercept': True,\n",
              " 'lr__intercept_scaling': 1,\n",
              " 'lr__l1_ratio': None,\n",
              " 'lr__max_iter': 100,\n",
              " 'lr__multi_class': 'auto',\n",
              " 'lr__n_jobs': None,\n",
              " 'lr__penalty': 'l2',\n",
              " 'lr__random_state': None,\n",
              " 'lr__solver': 'lbfgs',\n",
              " 'lr__tol': 0.0001,\n",
              " 'lr__verbose': 0,\n",
              " 'lr__warm_start': False,\n",
              " 'memory': None,\n",
              " 'steps': [('transformer',\n",
              "   ColumnTransformer(n_jobs=None, remainder='drop', sparse_threshold=0.3,\n",
              "                     transformer_weights=None,\n",
              "                     transformers=[('list-1', ['sms_message'],\n",
              "                                    Pipeline(memory=None,\n",
              "                                             steps=[('counter',\n",
              "                                                     CountVectorizer(analyzer='word',\n",
              "                                                                     binary=False,\n",
              "                                                                     decode_error='strict',\n",
              "                                                                     dtype=<class 'numpy.int64'>,\n",
              "                                                                     encoding='utf-8',\n",
              "                                                                     input='content',\n",
              "                                                                     lowercase=True,\n",
              "                                                                     max_df=1.0,\n",
              "                                                                     max_features=None,\n",
              "                                                                     min_df=...\n",
              "                                                                     preprocessor=None,\n",
              "                                                                     stop_words=None,\n",
              "                                                                     strip_accents=None,\n",
              "                                                                     token_pattern='(?u)\\\\b\\\\w\\\\w+\\\\b',\n",
              "                                                                     tokenizer=<function tokenize at 0x7fab76019510>,\n",
              "                                                                     vocabulary=None)),\n",
              "                                                    ('tfidf',\n",
              "                                                     TfidfTransformer(norm='l2',\n",
              "                                                                      smooth_idf=True,\n",
              "                                                                      sublinear_tf=False,\n",
              "                                                                      use_idf=True))],\n",
              "                                             verbose=False)),\n",
              "                                   ('list-2', ['msg_length', 'punct'],\n",
              "                                    StandardScaler(copy=True, with_mean=True,\n",
              "                                                   with_std=True))],\n",
              "                     verbose=False)),\n",
              "  ('lr',\n",
              "   LogisticRegression(C=1.0, class_weight=None, dual=False, fit_intercept=True,\n",
              "                      intercept_scaling=1, l1_ratio=None, max_iter=100,\n",
              "                      multi_class='auto', n_jobs=None, penalty='l2',\n",
              "                      random_state=None, solver='lbfgs', tol=0.0001, verbose=0,\n",
              "                      warm_start=False))],\n",
              " 'transformer': ColumnTransformer(n_jobs=None, remainder='drop', sparse_threshold=0.3,\n",
              "                   transformer_weights=None,\n",
              "                   transformers=[('list-1', ['sms_message'],\n",
              "                                  Pipeline(memory=None,\n",
              "                                           steps=[('counter',\n",
              "                                                   CountVectorizer(analyzer='word',\n",
              "                                                                   binary=False,\n",
              "                                                                   decode_error='strict',\n",
              "                                                                   dtype=<class 'numpy.int64'>,\n",
              "                                                                   encoding='utf-8',\n",
              "                                                                   input='content',\n",
              "                                                                   lowercase=True,\n",
              "                                                                   max_df=1.0,\n",
              "                                                                   max_features=None,\n",
              "                                                                   min_df=...\n",
              "                                                                   preprocessor=None,\n",
              "                                                                   stop_words=None,\n",
              "                                                                   strip_accents=None,\n",
              "                                                                   token_pattern='(?u)\\\\b\\\\w\\\\w+\\\\b',\n",
              "                                                                   tokenizer=<function tokenize at 0x7fab76019510>,\n",
              "                                                                   vocabulary=None)),\n",
              "                                                  ('tfidf',\n",
              "                                                   TfidfTransformer(norm='l2',\n",
              "                                                                    smooth_idf=True,\n",
              "                                                                    sublinear_tf=False,\n",
              "                                                                    use_idf=True))],\n",
              "                                           verbose=False)),\n",
              "                                 ('list-2', ['msg_length', 'punct'],\n",
              "                                  StandardScaler(copy=True, with_mean=True,\n",
              "                                                 with_std=True))],\n",
              "                   verbose=False),\n",
              " 'transformer__list-1': ['sms_message'],\n",
              " 'transformer__list-2': ['msg_length', 'punct'],\n",
              " 'transformer__n_jobs': None,\n",
              " 'transformer__remainder': 'drop',\n",
              " 'transformer__sparse_threshold': 0.3,\n",
              " 'transformer__transformer_weights': None,\n",
              " 'transformer__transformers': [('list-1',\n",
              "   ['sms_message'],\n",
              "   Pipeline(memory=None,\n",
              "            steps=[('counter',\n",
              "                    CountVectorizer(analyzer='word', binary=False,\n",
              "                                    decode_error='strict',\n",
              "                                    dtype=<class 'numpy.int64'>, encoding='utf-8',\n",
              "                                    input='content', lowercase=True, max_df=1.0,\n",
              "                                    max_features=None, min_df=1,\n",
              "                                    ngram_range=(1, 1), preprocessor=None,\n",
              "                                    stop_words=None, strip_accents=None,\n",
              "                                    token_pattern='(?u)\\\\b\\\\w\\\\w+\\\\b',\n",
              "                                    tokenizer=<function tokenize at 0x7fab76019510>,\n",
              "                                    vocabulary=None)),\n",
              "                   ('tfidf',\n",
              "                    TfidfTransformer(norm='l2', smooth_idf=True,\n",
              "                                     sublinear_tf=False, use_idf=True))],\n",
              "            verbose=False)),\n",
              "  ('list-2',\n",
              "   ['msg_length', 'punct'],\n",
              "   StandardScaler(copy=True, with_mean=True, with_std=True))],\n",
              " 'transformer__verbose': False,\n",
              " 'verbose': False}"
            ]
          },
          "metadata": {
            "tags": []
          },
          "execution_count": 39
        }
      ]
    },
    {
      "cell_type": "code",
      "metadata": {
        "id": "VFTLdu_VJkn0",
        "colab_type": "code",
        "colab": {}
      },
      "source": [
        "param_grid ={'lr_C' = [0.5,1.0,1.0],\n",
        "             'lr__penalty' =['l1','l2']\n",
        "             'columntransformer'\n",
        "             }\n",
        "\n",
        "param_grid = {\n",
        "    'columntransformer__pipeline__simpleimputer__strategy': ['mean', 'median'],\n",
        "    'logisticregression__C': [0.1, 1.0, 1.0],\n",
        "    }"
      ],
      "execution_count": 0,
      "outputs": []
    },
    {
      "cell_type": "code",
      "metadata": {
        "id": "Pt77Blhs4htd",
        "colab_type": "code",
        "colab": {}
      },
      "source": [
        "pipeline = Pipeline([\n",
        "    ('features', FeatureUnion([\n",
        "\n",
        "        ('text_pipeline', Pipeline([\n",
        "            ('vect', CountVectorizer(tokenizer=tokenize)),\n",
        "            ('tfidf', TfidfTransformer())\n",
        "        ])),\n",
        "\n",
        "        ('starting_verb', StartingVerbExtractor())\n",
        "    ])),\n",
        "\n",
        "    ('lr', LogisticRegression())\n",
        "])"
      ],
      "execution_count": 0,
      "outputs": []
    },
    {
      "cell_type": "code",
      "metadata": {
        "id": "PXRXQ7UFy-3S",
        "colab_type": "code",
        "colab": {}
      },
      "source": [
        "pipeline = Pipeline([\n",
        "    ('features', FeatureUnion([\n",
        "\n",
        "        ('text_pipeline', Pipeline([\n",
        "            ('vect', CountVectorizer(tokenizer=tokenize)),\n",
        "            ('tfidf', TfidfTransformer())\n",
        "        ])),\n",
        "\n",
        "        ('starting_verb', StartingVerbExtractor())\n",
        "    ])),\n",
        "\n",
        "    ('clf', RandomForestClassifier())\n",
        "])"
      ],
      "execution_count": 0,
      "outputs": []
    },
    {
      "cell_type": "code",
      "metadata": {
        "id": "h_J_tyrE4b8t",
        "colab_type": "code",
        "colab": {}
      },
      "source": [
        ""
      ],
      "execution_count": 0,
      "outputs": []
    },
    {
      "cell_type": "code",
      "metadata": {
        "id": "gtnLzMM5xHJZ",
        "colab_type": "code",
        "colab": {}
      },
      "source": [
        "def model_pipeline():\n",
        "    pipeline = Pipeline([\n",
        "                        ('feature',FeatureUnion([\n",
        "                            \n",
        "                            ('nlp_pipeline', Pipeline([\n",
        "                                ('count',CountVectorizer(tokenizer=tokenize)),\n",
        "                                  ('tfidf',TfidfTransformer())\n",
        "                            ])),\n",
        "                                        \n",
        "                            ('strvb', StartingVerbExtractor())\n",
        "                            ])),\n",
        "                         \n",
        "                         ('clf', RandomForestClassifier())])\n",
        "    \n",
        "    \n",
        "\n",
        "    return pipeline\n",
        "\n",
        "def load_data(engineer_data = True):\n",
        "    !wget https://archive.ics.uci.edu/ml/machine-learning-databases/00228/smsspamcollection.zip\n",
        "    df = pd.read_csv('corporate_messaging.csv', encoding='latin-1')\n",
        "    df = df[(df[\"category:confidence\"] == 1) & (df['category'] != 'Exclude')]\n",
        "    X = df.text.values\n",
        "    y = df.category.values\n",
        "    return X, y\n",
        "\n",
        "\n",
        "def tokenize(text):\n",
        "    detected_urls = re.findall(url_regex, text)\n",
        "    for url in detected_urls:\n",
        "        text = text.replace(url, \"urlplaceholder\")\n",
        "\n",
        "    tokens = word_tokenize(text)\n",
        "    lemmatizer = WordNetLemmatizer()\n",
        "\n",
        "    clean_tokens = []\n",
        "    for tok in tokens:\n",
        "        clean_tok = lemmatizer.lemmatize(tok).lower().strip()\n",
        "        clean_tokens.append(clean_tok)\n",
        "\n",
        "    return clean_tokens\n",
        "\n",
        "\n",
        "def display_results(y_test, y_pred):\n",
        "    labels = np.unique(y_pred)\n",
        "    confusion_mat = confusion_matrix(y_test, y_pred, labels=labels)\n",
        "    accuracy = (y_pred == y_test).mean()\n",
        "\n",
        "    print(\"Labels:\", labels)\n",
        "    print(\"Confusion Matrix:\\n\", confusion_mat)\n",
        "    print(\"Accuracy:\", accuracy)\n",
        "\n",
        "\n",
        "def main():\n",
        "    X, y = load_data()\n",
        "    X_train, X_test, y_train, y_test = train_test_split(X, y)\n",
        "\n",
        "    model = model_pipeline()\n",
        "    model.fit(X_train, y_train)\n",
        "    y_pred = model.predict(X_test)\n",
        "\n",
        "    display_results(y_test, y_pred)\n",
        "\n",
        "main()"
      ],
      "execution_count": 0,
      "outputs": []
    },
    {
      "cell_type": "markdown",
      "metadata": {
        "id": "ewtN4Jr6Tvuw",
        "colab_type": "text"
      },
      "source": [
        "## Concluding Remarks"
      ]
    },
    {
      "cell_type": "code",
      "metadata": {
        "id": "vFQy8pRh5TdL",
        "colab_type": "code",
        "colab": {}
      },
      "source": [
        ""
      ],
      "execution_count": 0,
      "outputs": []
    },
    {
      "cell_type": "code",
      "metadata": {
        "id": "qvDiWzfj1kQA",
        "colab_type": "code",
        "colab": {}
      },
      "source": [
        ""
      ],
      "execution_count": 0,
      "outputs": []
    }
  ]
}